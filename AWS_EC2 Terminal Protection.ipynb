{
 "cells": [
  {
   "cell_type": "markdown",
   "metadata": {},
   "source": [
    "# Get All EC2 Instance with DisableApiTermination = False"
   ]
  },
  {
   "cell_type": "markdown",
   "metadata": {},
   "source": [
    "Ensure that the **EC2 instances provisioned outside of the AWS Auto Scaling Groups (ASGs)** have Termination Protection safety feature enabled in order to protect your instances from being accidentally terminated."
   ]
  },
  {
   "cell_type": "code",
   "execution_count": null,
   "metadata": {},
   "outputs": [],
   "source": [
    "import os, sys\n",
    "from datetime import datetime\n",
    "import pandas as pd\n",
    "import boto3\n",
    "from IPython.display import display\n",
    "from botocore.config import Config"
   ]
  },
  {
   "cell_type": "markdown",
   "metadata": {},
   "source": [
    "# 0. Core Function"
   ]
  },
  {
   "cell_type": "markdown",
   "metadata": {},
   "source": [
    "### Credential Part"
   ]
  },
  {
   "cell_type": "code",
   "execution_count": null,
   "metadata": {},
   "outputs": [],
   "source": [
    "def createAWSCLISession(aws_access_key_id=\"\", aws_secret_access_key=\"\", aws_session_token=\"\", credential_profile=\"\"):\n",
    "    if aws_access_key_id != \"\" and aws_secret_access_key != \"\":\n",
    "        # Can Specific Key Here\n",
    "        session = boto3.Session(\n",
    "            aws_access_key_id=aws_access_key_id,\n",
    "            aws_secret_access_key=aws_secret_access_key,\n",
    "            aws_session_token=aws_session_token\n",
    "        )\n",
    "\n",
    "    if credential_profile != \"\":\n",
    "        session = boto3.Session(profile_name=credential_profile)\n",
    "    \n",
    "    return session"
   ]
  },
  {
   "cell_type": "markdown",
   "metadata": {},
   "source": [
    "### EC2 Instances"
   ]
  },
  {
   "cell_type": "code",
   "execution_count": null,
   "metadata": {},
   "outputs": [],
   "source": [
    "def extractEC2InstanceName(tags=[]):\n",
    "    for tag in tags:\n",
    "        if tag[\"Key\"]==\"Name\":\n",
    "            return tag['Value']"
   ]
  },
  {
   "cell_type": "code",
   "execution_count": null,
   "metadata": {},
   "outputs": [],
   "source": [
    "def extactEC2Instance(reservation=[]):\n",
    "    return [{\"instanceId\":i[\"InstanceId\"], \"instanceName\":extractEC2InstanceName(i[\"Tags\"]),\"tags\":i[\"Tags\"]} for i in reservation[\"Instances\"]]"
   ]
  },
  {
   "cell_type": "code",
   "execution_count": null,
   "metadata": {},
   "outputs": [],
   "source": [
    "def getAllEC2InstanceIDByReservations():\n",
    "    response = EC2.describe_instances()\n",
    "    return { res[\"ReservationId\"]:extactEC2Instance(reservation=res) for res in response[\"Reservations\"]}"
   ]
  },
  {
   "cell_type": "markdown",
   "metadata": {},
   "source": [
    "### Disable Api Termination Status"
   ]
  },
  {
   "cell_type": "code",
   "execution_count": null,
   "metadata": {},
   "outputs": [],
   "source": [
    "def getDisableApiTerminationStatus(instanceID=\"\"):\n",
    "    response = EC2.describe_instance_attribute(Attribute='disableApiTermination', InstanceId=instanceID)    \n",
    "    return response[\"DisableApiTermination\"][\"Value\"]"
   ]
  },
  {
   "cell_type": "code",
   "execution_count": null,
   "metadata": {},
   "outputs": [],
   "source": [
    "def getAndextractDisableApiTerminationStatus(credential_profile=\"\", reservationId=\"\", data={}):\n",
    "    return {\n",
    "        \"cloudAccountName\": credential_profile,\n",
    "        \"reservationId\": reservationId,\n",
    "        \"assetID\": data[\"instanceId\"],\n",
    "        \"assetName\": extractEC2InstanceName(data[\"tags\"]),\n",
    "        \"disableApiTermination\": getDisableApiTerminationStatus(data[\"instanceId\"]),\n",
    "        \"tags\": data[\"tags\"]\n",
    "    }"
   ]
  },
  {
   "cell_type": "code",
   "execution_count": null,
   "metadata": {},
   "outputs": [],
   "source": [
    "def getDisableApiTerminationStatusFromReservation(reservationAssets={}):\n",
    "    disableApiTerminationStatusAll = []\n",
    "    for key, instances in ec2_reserved.items():\n",
    "        print(\"Reservation ID : \" + key)\n",
    "        print(\"  Instance ID : \", end=\" \")\n",
    "        for i in instances:\n",
    "            print(i[\"instanceId\"], end=\" \")\n",
    "            disableApiTerminationStatusAll.append(getAndextractDisableApiTerminationStatus(credential_profile=credential_profile, reservationId=key, data=i))\n",
    "        print()\n",
    "    return disableApiTerminationStatusAll"
   ]
  },
  {
   "cell_type": "markdown",
   "metadata": {},
   "source": [
    "# 1. Check EC2TerminationProtection of One Account"
   ]
  },
  {
   "cell_type": "code",
   "execution_count": null,
   "metadata": {},
   "outputs": [],
   "source": [
    "credential_profile = \"<Profile Name>\"\n",
    "region_name = 'ap-southeast-1'\n",
    "EC2config = Config(\n",
    "    region_name = region_name\n",
    ")\n",
    "credential_profile"
   ]
  },
  {
   "cell_type": "code",
   "execution_count": null,
   "metadata": {},
   "outputs": [],
   "source": [
    "session = createAWSCLISession(credential_profile=credential_profile)\n",
    "EC2 = session.client('ec2', config=EC2config)"
   ]
  },
  {
   "cell_type": "code",
   "execution_count": null,
   "metadata": {},
   "outputs": [],
   "source": [
    "ec2_reserved = getAllEC2InstanceIDByReservations()\n",
    "\n",
    "for k, v in ec2_reserved.items():\n",
    "    print(\"Reservation ID : \"  + str(k))\n",
    "    display(pd.DataFrame(v))"
   ]
  },
  {
   "cell_type": "code",
   "execution_count": null,
   "metadata": {},
   "outputs": [],
   "source": [
    "disableApiTerminationStatusAll = getDisableApiTerminationStatusFromReservation(reservationAssets=ec2_reserved)"
   ]
  },
  {
   "cell_type": "code",
   "execution_count": null,
   "metadata": {},
   "outputs": [],
   "source": [
    "disableApiTerminationStatusAll_df = pd.DataFrame(disableApiTerminationStatusAll)\n",
    "disableApiTerminationStatusAll_df"
   ]
  },
  {
   "cell_type": "code",
   "execution_count": null,
   "metadata": {},
   "outputs": [],
   "source": [
    "display(disableApiTerminationStatusAll_df[disableApiTerminationStatusAll_df[\"disableApiTermination\"]==True])"
   ]
  },
  {
   "cell_type": "markdown",
   "metadata": {},
   "source": [
    "Filter EC2 only outside of the AWS Auto Scaling Groups"
   ]
  },
  {
   "cell_type": "code",
   "execution_count": null,
   "metadata": {},
   "outputs": [],
   "source": [
    "display(disableApiTerminationStatusAll_df[((~disableApiTerminationStatusAll_df['assetName'].str.lower().str.contains('eks|batch'))) & (disableApiTerminationStatusAll_df[\"disableApiTermination\"]==False)])"
   ]
  },
  {
   "cell_type": "markdown",
   "metadata": {},
   "source": [
    "# 2. Check EC2TerminationProtection of Multiple Account"
   ]
  },
  {
   "cell_type": "code",
   "execution_count": null,
   "metadata": {},
   "outputs": [],
   "source": [
    "credential_profiles = [\n",
    "    \"<Profile Name>\",\n",
    "]"
   ]
  },
  {
   "cell_type": "code",
   "execution_count": null,
   "metadata": {},
   "outputs": [],
   "source": [
    "region_name = 'ap-southeast-1'\n",
    "EC2config = Config(\n",
    "    region_name = region_name\n",
    ")"
   ]
  },
  {
   "cell_type": "code",
   "execution_count": null,
   "metadata": {},
   "outputs": [],
   "source": [
    "def checkEC2TerminalProtectionInOneAccount(credential_profile=\"\"):\n",
    "    print(\"Cloud Account : \" + credential_profile)\n",
    "    \n",
    "    session = createAWSCLISession(credential_profile=credential_profile)\n",
    "\n",
    "    EC2 = session.client('ec2', config=EC2config)\n",
    "    ec2_reserved = getAllEC2InstanceIDByReservations()\n",
    "    \n",
    "    disableApiTerminationStatusAll = getDisableApiTerminationStatusFromReservation(reservationAssets=ec2_reserved)\n",
    "    return disableApiTerminationStatusAll"
   ]
  },
  {
   "cell_type": "code",
   "execution_count": null,
   "metadata": {},
   "outputs": [],
   "source": [
    "disableApiTerminationStatusAllAccounts = []\n",
    "for credential_profile in credential_profiles:\n",
    "    print(\"\\nCredential Profile : \" + credential_profile)\n",
    "    disableApiTerminationStatusAllAccounts += checkEC2TerminalProtectionInOneAccount(credential_profile=credential_profile)"
   ]
  },
  {
   "cell_type": "code",
   "execution_count": null,
   "metadata": {},
   "outputs": [],
   "source": [
    "disableApiTerminationStatusAllAccounts_df = pd.DataFrame(disableApiTerminationStatusAllAccounts)\n",
    "disableApiTerminationStatusAllAccounts_df"
   ]
  },
  {
   "cell_type": "code",
   "execution_count": null,
   "metadata": {},
   "outputs": [],
   "source": [
    "result_df = pd.concat([disableApiTerminationStatusAllAccounts_df, disableApiTerminationStatusAllAccounts_df[\"tags\"].apply(pd.Series)], axis=1)\n",
    "result_df = result_df.drop(columns=\"tags\")\n",
    "len(result_df.index)"
   ]
  },
  {
   "cell_type": "code",
   "execution_count": null,
   "metadata": {},
   "outputs": [],
   "source": [
    "display(result_df[result_df[\"disableApiTermination\"]==True])"
   ]
  },
  {
   "cell_type": "code",
   "execution_count": null,
   "metadata": {},
   "outputs": [],
   "source": [
    "display(result_df[((~result_df['assetName'].str.lower().str.contains('eks|batch'))) & (result_df[\"disableApiTermination\"]==False)])"
   ]
  },
  {
   "cell_type": "code",
   "execution_count": null,
   "metadata": {},
   "outputs": [],
   "source": [
    "# nowTime = datetime.now().strftime(\"(%y%m%d-%H%M%S) \")\n",
    "# filepath=\"outputs/\" + nowTime + \"EC2 Termination Protection\""
   ]
  },
  {
   "cell_type": "code",
   "execution_count": null,
   "metadata": {},
   "outputs": [],
   "source": [
    "# result_df.to_excel(filepath  + \".xlsx\", sheet_name='disableApiTermination', index=False, encoding='utf-8')"
   ]
  },
  {
   "cell_type": "code",
   "execution_count": null,
   "metadata": {},
   "outputs": [],
   "source": []
  }
 ],
 "metadata": {
  "kernelspec": {
   "display_name": "Python 3",
   "language": "python",
   "name": "python3"
  },
  "language_info": {
   "codemirror_mode": {
    "name": "ipython",
    "version": 3
   },
   "file_extension": ".py",
   "mimetype": "text/x-python",
   "name": "python",
   "nbconvert_exporter": "python",
   "pygments_lexer": "ipython3",
   "version": "3.8.3"
  }
 },
 "nbformat": 4,
 "nbformat_minor": 4
}
