{
 "cells": [
  {
   "cell_type": "markdown",
   "metadata": {},
   "source": [
    "# ELB"
   ]
  },
  {
   "cell_type": "code",
   "execution_count": null,
   "metadata": {},
   "outputs": [],
   "source": [
    "import os, sys\n",
    "from datetime import datetime\n",
    "import pandas as pd\n",
    "import boto3\n",
    "from IPython.display import display\n",
    "from botocore.config import Config"
   ]
  },
  {
   "cell_type": "code",
   "execution_count": null,
   "metadata": {},
   "outputs": [],
   "source": [
    "def createAWSCLISession(aws_access_key_id=\"\", aws_secret_access_key=\"\", aws_session_token=\"\", credential_profile=\"\"):\n",
    "    if aws_access_key_id != \"\" and aws_secret_access_key != \"\":\n",
    "        # Can Specific Key Here\n",
    "        session = boto3.Session(\n",
    "            aws_access_key_id=aws_access_key_id,\n",
    "            aws_secret_access_key=aws_secret_access_key,\n",
    "            aws_session_token=aws_session_token\n",
    "        )\n",
    "\n",
    "    if credential_profile != \"\":\n",
    "        session = boto3.Session(profile_name=credential_profile)\n",
    "    \n",
    "    return session"
   ]
  },
  {
   "cell_type": "code",
   "execution_count": null,
   "metadata": {},
   "outputs": [],
   "source": [
    "region_name = 'ap-southeast-1'\n",
    "config = Config(\n",
    "    region_name = region_name\n",
    ")"
   ]
  },
  {
   "cell_type": "code",
   "execution_count": null,
   "metadata": {},
   "outputs": [],
   "source": [
    "credential_profiles = [\n",
    "    \"\"\n",
    "]"
   ]
  },
  {
   "cell_type": "code",
   "execution_count": null,
   "metadata": {},
   "outputs": [],
   "source": [
    "credential_profile = credential_profiles[0]\n",
    "print(\"\\nCredential Profile : \" + credential_profile)"
   ]
  },
  {
   "cell_type": "markdown",
   "metadata": {},
   "source": [
    "## Classic ELB"
   ]
  },
  {
   "cell_type": "code",
   "execution_count": null,
   "metadata": {},
   "outputs": [],
   "source": [
    "def extractListener(LoadBalancerDescriptions=[]):\n",
    "    return [l[\"ListenerDescriptions\"] for l in LoadBalancerDescriptions]"
   ]
  },
  {
   "cell_type": "code",
   "execution_count": null,
   "metadata": {},
   "outputs": [],
   "source": [
    "elbNames = [\n",
    "    '',\n",
    "    ''\n",
    "]"
   ]
  },
  {
   "cell_type": "code",
   "execution_count": null,
   "metadata": {},
   "outputs": [],
   "source": [
    "# Classic ELB\n",
    "session = createAWSCLISession(credential_profile=credential_profile)\n",
    "elb = session.client('elb', config=config)\n",
    "elbinfo = elb.describe_load_balancers(LoadBalancerNames=elbNames)\n",
    "extractListener(LoadBalancerDescriptions=elbinfo[\"LoadBalancerDescriptions\"])"
   ]
  },
  {
   "cell_type": "code",
   "execution_count": null,
   "metadata": {},
   "outputs": [],
   "source": []
  },
  {
   "cell_type": "markdown",
   "metadata": {},
   "source": [
    "## Next Gen ELB"
   ]
  },
  {
   "cell_type": "code",
   "execution_count": null,
   "metadata": {},
   "outputs": [],
   "source": [
    "def getELBArn(LoadBalancers=[]):\n",
    "    return [l[\"LoadBalancerArn\"] for l in LoadBalancers]"
   ]
  },
  {
   "cell_type": "code",
   "execution_count": null,
   "metadata": {},
   "outputs": [],
   "source": [
    "elbNames = [\n",
    "    '',\n",
    "]"
   ]
  },
  {
   "cell_type": "code",
   "execution_count": null,
   "metadata": {},
   "outputs": [],
   "source": [
    "# Next Gen ELB\n",
    "session = createAWSCLISession(credential_profile=credential_profile)\n",
    "elbv2 = session.client('elbv2', config=config)\n",
    "elbinfo = elbv2.describe_load_balancers(Names=elbNames)\n",
    "elbArns = getELBArn(elbinfo[\"LoadBalancers\"])\n",
    "elbv2.describe_listeners(LoadBalancerArn=elbArns[0])"
   ]
  }
 ],
 "metadata": {
  "kernelspec": {
   "display_name": "Python 3",
   "language": "python",
   "name": "python3"
  },
  "language_info": {
   "codemirror_mode": {
    "name": "ipython",
    "version": 3
   },
   "file_extension": ".py",
   "mimetype": "text/x-python",
   "name": "python",
   "nbconvert_exporter": "python",
   "pygments_lexer": "ipython3",
   "version": "3.8.3"
  }
 },
 "nbformat": 4,
 "nbformat_minor": 4
}
