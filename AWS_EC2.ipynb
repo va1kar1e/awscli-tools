{
 "cells": [
  {
   "cell_type": "markdown",
   "metadata": {},
   "source": [
    "# Get All EC2 Instance"
   ]
  },
  {
   "cell_type": "code",
   "execution_count": null,
   "metadata": {},
   "outputs": [],
   "source": [
    "import os, sys\n",
    "from datetime import datetime\n",
    "import pandas as pd\n",
    "import boto3\n",
    "from IPython.display import display\n",
    "from botocore.config import Config"
   ]
  },
  {
   "cell_type": "markdown",
   "metadata": {},
   "source": [
    "# 0. Core Function"
   ]
  },
  {
   "cell_type": "markdown",
   "metadata": {},
   "source": [
    "### Credential Part"
   ]
  },
  {
   "cell_type": "code",
   "execution_count": null,
   "metadata": {},
   "outputs": [],
   "source": [
    "def createAWSCLISession(aws_access_key_id=\"\", aws_secret_access_key=\"\", aws_session_token=\"\", credential_profile=\"\"):\n",
    "    if aws_access_key_id != \"\" and aws_secret_access_key != \"\":\n",
    "        # Can Specific Key Here\n",
    "        session = boto3.Session(\n",
    "            aws_access_key_id=aws_access_key_id,\n",
    "            aws_secret_access_key=aws_secret_access_key,\n",
    "            aws_session_token=aws_session_token\n",
    "        )\n",
    "\n",
    "    if credential_profile != \"\":\n",
    "        session = boto3.Session(profile_name=credential_profile)\n",
    "    \n",
    "    return session"
   ]
  },
  {
   "cell_type": "markdown",
   "metadata": {},
   "source": [
    "### EC2 Instances"
   ]
  },
  {
   "cell_type": "code",
   "execution_count": null,
   "metadata": {},
   "outputs": [],
   "source": [
    "def extractEC2InstanceName(tags=[]):\n",
    "    for tag in tags:\n",
    "        if tag[\"Key\"]==\"Name\":\n",
    "            return tag['Value']\n",
    "\n",
    "def extractOSFromImage(ImageId=\"\"):\n",
    "    images_info = EC2.describe_images(ImageIds=[ImageId])\n",
    "    if len(images_info[\"Images\"]) <= 0: # and  in images_info[\"Images\"]:\n",
    "        return \"N/A - Not Windows\"\n",
    "    else:\n",
    "        return images_info[\"Images\"][0][\"PlatformDetails\"]\n",
    "\n",
    "def extractEC2Fields(ReservationId=\"\", info={}):    \n",
    "    return {\n",
    "        \"reservationId\": ReservationId,\n",
    "        \"instanceId\":info[\"InstanceId\"],\n",
    "        \"PrivateIpAddress\":info[\"PrivateIpAddress\"] if \"PrivateIpAddress\" in info else \"\",\n",
    "        \"Platform\":info[\"Platform\"] if \"Platform\" in info else extractOSFromImage(info[\"ImageId\"]),\n",
    "        \"instanceName\":extractEC2InstanceName(tags=info[\"Tags\"]),\n",
    "        \"tags\":info[\"Tags\"]\n",
    "    }  "
   ]
  },
  {
   "cell_type": "code",
   "execution_count": null,
   "metadata": {},
   "outputs": [],
   "source": [
    "credential_profiles = [\n",
    "]"
   ]
  },
  {
   "cell_type": "code",
   "execution_count": null,
   "metadata": {},
   "outputs": [],
   "source": [
    "region_name = 'ap-southeast-1'\n",
    "EC2config = Config(\n",
    "    region_name = region_name\n",
    ")"
   ]
  },
  {
   "cell_type": "code",
   "execution_count": null,
   "metadata": {},
   "outputs": [],
   "source": [
    "for credential_profile in credential_profiles:\n",
    "    print(\"\\nCredential Profile : \" + credential_profile)\n",
    "    \n",
    "    session = createAWSCLISession(credential_profile=credential_profile)\n",
    "    EC2 = session.client('ec2', config=EC2config)\n",
    "    \n",
    "    ec2_reserved = EC2.describe_instances()[\"Reservations\"]\n",
    "    \n",
    "    ec2_assets = []\n",
    "    for reserve in ec2_reserved:\n",
    "        ec2_assets += [extractEC2Fields(ReservationId=reserve[\"ReservationId\"], info=info) for info in reserve[\"Instances\"]]\n",
    "    \n",
    "    ec2_assets_df = pd.DataFrame(ec2_assets)\n",
    "    ec2_assets_mergeTag_df = pd.concat([ec2_assets_df, ec2_assets_df[\"tags\"].apply(pd.Series)], axis=1)\n",
    "    ec2_assets_mergeTag_df = ec2_assets_mergeTag_df.drop(columns=\"tags\")\n",
    "    \n",
    "    filepath=\"outputs/\" + credential_profile\n",
    "    ec2_assets_mergeTag_df.to_excel(filepath  + \".xlsx\", sheet_name='sheet', index=False, encoding='utf-8')"
   ]
  },
  {
   "cell_type": "code",
   "execution_count": null,
   "metadata": {},
   "outputs": [],
   "source": []
  }
 ],
 "metadata": {
  "kernelspec": {
   "display_name": "Python 3",
   "language": "python",
   "name": "python3"
  },
  "language_info": {
   "codemirror_mode": {
    "name": "ipython",
    "version": 3
   },
   "file_extension": ".py",
   "mimetype": "text/x-python",
   "name": "python",
   "nbconvert_exporter": "python",
   "pygments_lexer": "ipython3",
   "version": "3.8.3"
  }
 },
 "nbformat": 4,
 "nbformat_minor": 4
}
