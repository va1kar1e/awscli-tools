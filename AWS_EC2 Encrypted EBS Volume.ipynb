{
 "cells": [
  {
   "cell_type": "markdown",
   "metadata": {},
   "source": [
    "# Get All EC2 Encrypted EBS Volume"
   ]
  },
  {
   "cell_type": "code",
   "execution_count": null,
   "metadata": {},
   "outputs": [],
   "source": [
    "import pandas as pd\n",
    "import boto3\n",
    "from botocore.config import Config\n",
    "from IPython.display import display"
   ]
  },
  {
   "cell_type": "markdown",
   "metadata": {},
   "source": [
    "# 0. Core Function"
   ]
  },
  {
   "cell_type": "markdown",
   "metadata": {},
   "source": [
    "### Credential Part"
   ]
  },
  {
   "cell_type": "code",
   "execution_count": null,
   "metadata": {},
   "outputs": [],
   "source": [
    "def createAWSCLISession(aws_access_key_id=\"\", aws_secret_access_key=\"\", aws_session_token=\"\", credential_profile=\"\"):\n",
    "    if aws_access_key_id != \"\" and aws_secret_access_key != \"\":\n",
    "        # Can Specific Key Here\n",
    "        session = boto3.Session(\n",
    "            aws_access_key_id=aws_access_key_id,\n",
    "            aws_secret_access_key=aws_secret_access_key,\n",
    "            aws_session_token=aws_session_token\n",
    "        )\n",
    "\n",
    "    if credential_profile != \"\":\n",
    "        session = boto3.Session(profile_name=credential_profile)\n",
    "    \n",
    "    return session"
   ]
  },
  {
   "cell_type": "markdown",
   "metadata": {},
   "source": [
    "### EC2 Instances"
   ]
  },
  {
   "cell_type": "code",
   "execution_count": null,
   "metadata": {},
   "outputs": [],
   "source": [
    "def extactEC2Instance(reservation=[]):\n",
    "    return [{\"instanceId\":i[\"InstanceId\"], \"volume\": i[\"BlockDeviceMappings\"]} for i in reservation[\"Instances\"]]"
   ]
  },
  {
   "cell_type": "code",
   "execution_count": null,
   "metadata": {},
   "outputs": [],
   "source": [
    "def getAllEBSVolumeEC2InstanceIDByReservations(InstanceIds=[]):\n",
    "    Reservations = EC2.describe_instances(InstanceIds=InstanceIds).get(\"Reservations\")\n",
    "    return { res[\"ReservationId\"]:extactEC2Instance(reservation=res) for res in Reservations}"
   ]
  },
  {
   "cell_type": "markdown",
   "metadata": {},
   "source": [
    "# 1. Check EC2 Encrypted EBS Volume of One Account"
   ]
  },
  {
   "cell_type": "code",
   "execution_count": null,
   "metadata": {},
   "outputs": [],
   "source": [
    "credential_profiles = [\n",
    "    \"<Profile Name>\"\n",
    "]"
   ]
  },
  {
   "cell_type": "code",
   "execution_count": null,
   "metadata": {},
   "outputs": [],
   "source": [
    "credential_profile = credential_profiles[0]\n",
    "region_name = 'ap-southeast-1'\n",
    "EC2config = Config(\n",
    "    region_name = region_name\n",
    ")\n",
    "credential_profile"
   ]
  },
  {
   "cell_type": "code",
   "execution_count": null,
   "metadata": {},
   "outputs": [],
   "source": [
    "session = createAWSCLISession(credential_profile=credential_profile)\n",
    "EC2 = session.client('ec2', config=EC2config)"
   ]
  },
  {
   "cell_type": "code",
   "execution_count": null,
   "metadata": {},
   "outputs": [],
   "source": [
    "InstanceIds = [\n",
    "    'i-xxxxxxxxxxxxxxx',\n",
    "    'i-xxxxxxxxxxxxxxx'\n",
    "]"
   ]
  },
  {
   "cell_type": "code",
   "execution_count": null,
   "metadata": {},
   "outputs": [],
   "source": [
    "ec2_ebs_reserved = getAllEBSVolumeEC2InstanceIDByReservations(InstanceIds=InstanceIds)"
   ]
  },
  {
   "cell_type": "code",
   "execution_count": null,
   "metadata": {},
   "outputs": [],
   "source": [
    "VolumeIds = []\n",
    "for k, instances in ec2_ebs_reserved.items():\n",
    "    print(\"\\nReservation ID : \"  + str(k))\n",
    "    for index, instance in enumerate(instances): \n",
    "        print(str(index+1) + \". Instance Id : \" + instance[\"instanceId\"])\n",
    "        \n",
    "        result_df = pd.concat([pd.DataFrame(instance[\"volume\"]), pd.DataFrame(instance[\"volume\"])[\"Ebs\"].apply(pd.Series)], axis=1)\n",
    "        result_df = result_df.drop(columns=\"Ebs\")\n",
    "        display(result_df)   \n",
    "        print(\"Attached Volume : \", end='')\n",
    "        VolumeIds += list(result_df[\"VolumeId\"])"
   ]
  },
  {
   "cell_type": "code",
   "execution_count": null,
   "metadata": {},
   "outputs": [],
   "source": [
    "Volumes = EC2.describe_volumes(VolumeIds=VolumeIds).get(\"Volumes\")\n",
    "pd.DataFrame(Volumes).drop(columns=\"Attachments\")"
   ]
  },
  {
   "cell_type": "code",
   "execution_count": null,
   "metadata": {},
   "outputs": [],
   "source": []
  }
 ],
 "metadata": {
  "kernelspec": {
   "display_name": "Python 3",
   "language": "python",
   "name": "python3"
  },
  "language_info": {
   "codemirror_mode": {
    "name": "ipython",
    "version": 3
   },
   "file_extension": ".py",
   "mimetype": "text/x-python",
   "name": "python",
   "nbconvert_exporter": "python",
   "pygments_lexer": "ipython3",
   "version": "3.8.3"
  }
 },
 "nbformat": 4,
 "nbformat_minor": 4
}
